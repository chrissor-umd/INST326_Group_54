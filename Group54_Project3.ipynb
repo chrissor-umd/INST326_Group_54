{
 "cells": [
  {
   "cell_type": "markdown",
   "id": "cddf5de3-a9f3-4471-bbaf-aca41a70ce89",
   "metadata": {},
   "source": [
    "### INST326 OOP Project 03"
   ]
  },
  {
   "cell_type": "markdown",
   "id": "2bb7f115-9eba-4f29-918e-b016e6a7edc8",
   "metadata": {},
   "source": [
    "Rename this notebook, replacing \"_Assignment\" with \"_YourName\"<br>\n",
    "Insert Signature Block Here"
   ]
  },
  {
   "cell_type": "markdown",
   "id": "a76a34fb-d495-42c0-9639-8a75d5386972",
   "metadata": {},
   "source": [
    "#### Group 54: Christian Sorensen, Tamunosaki Danagogo, Marcos Alvarado\n",
    "> INST326\n",
    "> Project 3\n",
    "> 11/1/2024\n",
    "#### Honor Pledge\n",
    "> I pledge that the work contained in this assignment is my own, and that I have complied with University and course policies on academic integrity and AI use.\n"
   ]
  },
  {
   "cell_type": "markdown",
   "id": "8ee05bdb-db2d-41c2-9f23-3af75d058612",
   "metadata": {},
   "source": [
    "### The Project\n",
    "Everyone will do the same project this time. This is a group project, so you must work in your assigned groups. Include the link to your group's GitHub repository (one link per group). Use comments in your code to document your solution. If you need to write comments to the grader, add a markdown cell immediately above your code solution and add your comments there. Be sure to read and follow all the requirements and the Notebook Instructions at the bottom of this notebook. Your grade may depend on it!"
   ]
  },
  {
   "cell_type": "markdown",
   "id": "a1c98e85-2c64-4a03-8309-d91035cca6d2",
   "metadata": {},
   "source": [
    "#### 1. A Scheduling Program\n",
    ">  My wife is responsible for scheduling caregivers for her 93 year-old mother. Currently she writes out the schedule on a monthly calendar and photocopies it for everyone. I want all of you to help me write a program to help her with scheduling. While this is a specific application, this program will be broadly useful and adaptable to any scheduling needs for small businesses, clubs, and more."
   ]
  },
  {
   "cell_type": "markdown",
   "id": "28b28d8a-dbb3-4f15-bbe0-e14504b84876",
   "metadata": {},
   "source": [
    "#### Requirements\n",
    ">  Care is required 12 hours per day, 7 days a week. There are two shifts each day: 7:00 AM - 1:00 PM, and 1:00 PM to 7:00 PM. There are a total of 8 caregivers. Some are family members and some are paid. Each caregiver has their own availability for shifts that is generally the same from month to month, but there are exceptions for work, vacations, and other responsibilities. Your program should do the following:\n",
    "> 1. Manage caregivers and their schedules. Attributes include: name, phone, email, pay rate, and hours.\n",
    "> 2. Each caregiver should have their own availability schedule where they can indicate their availability for each shift. Availability categories are 'preferred', 'available' (default), and 'unavailable'.\n",
    "> 3. Create a care schedule that covers AM and PM shifts and displays caregiver names on a calendar (see example). The schedule should accomodate caregivers' individual schedules and availability preferences. The python calendar module provides options for creating HTML calendars. Sample code for the HTML calendar is in the project folder.\n",
    "> 4. Paid caregivers are paid weekly at $20/hr. Your program should calculate weekly pay based on assigned hours. Provide a separate pay report that lists weekly (gross: hours x rate) amounts to each caregiver, along with weekly and monthly totals. The report can be a text document, or presented in GUI or HTML format. "
   ]
  },
  {
   "cell_type": "markdown",
   "id": "6708f6cf-aac7-430e-947d-6f9c8dd161f6",
   "metadata": {
    "jp-MarkdownHeadingCollapsed": true
   },
   "source": [
    "#### Group Requirements\n",
    ">  1. Your submitted project should follow OOP principles like abstraction, encapsulation, inheritance, and polymorphism as appropriate. Your program should use classes. \n",
    ">  2. Select a group leader who will host the group's project repository on their GitHub.\n",
    ">  3. Create the group repository and add a main program document. See example.\n",
    ">  4. Create branches off the main program for each group member, and assign part of the program to each member.\n",
    ">  5. Each member should work on their branch.\n",
    ">  6. When each member is finished, merge the branches back into the main program. You may use 'merge' or 'pull requests', your choice.\n",
    ">  7. iterate and debug as necessary."
   ]
  },
  {
   "cell_type": "markdown",
   "id": "71b8f18e-607a-4c94-81a3-ebbc488ba8c6",
   "metadata": {},
   "source": [
    "#### Working with HTML\n",
    "> Since this is a course on python, not HTML, you are not expected to know HTML. Therefore, you may copy applicable portions of the sample code or use AI to write the HTML portions of your application. Ypu should write the main python code yourself.\n"
   ]
  },
  {
   "cell_type": "markdown",
   "id": "fc336368-4292-42af-aa60-06b27ff6b303",
   "metadata": {
    "jp-MarkdownHeadingCollapsed": true
   },
   "source": [
    "#### What you need to turn in\n",
    ">  This is a group project. There will be one submission per group. Your submission will be graded as a group.\n",
    ">  1. Include your group number and the names of all group members in the signature block at the top of this notebook.\n",
    ">  2. In the cell below, paste the link to your project repository. One link per group. The grader will review the activity and history provided by GitHub. To add a hyperlink to a Jupyter markdown cell, follow the instructions in the cell below.\n",
    ">  3. Below the GitHub Repository Link cell is a code cell. Copy and paste your final program code into this cell."
   ]
  },
  {
   "cell_type": "markdown",
   "id": "3ece03e6-a41f-484d-8417-d8c4e156b2c0",
   "metadata": {},
   "source": [
    "#### GitHub Repository Link\n",
    "> [Github Repo](https://github.com/chrissor-umd/INST326_Group_54)"
   ]
  },
  {
   "cell_type": "code",
   "execution_count": null,
   "id": "cb35b908-6683-4144-816c-051715925504",
   "metadata": {},
   "outputs": [
    {
     "name": "stdout",
     "output_type": "stream",
     "text": [
      "Person added to shift\n",
      "Person added to shift\n",
      "Person added to shift\n",
      "Person added to shift\n",
      "SUN:\n",
      "    AM:\n",
      "        Guy\n",
      "        Joe\n",
      "    PM:\n",
      "        Joe\n",
      "MON:\n",
      "    AM:\n",
      "        Joe\n",
      "    PM: None\n",
      "TUE: None\n",
      "WED: None\n",
      "THU: None\n",
      "FRI: None\n",
      "SAT: None\n"
     ]
    }
   ],
   "source": [
    "# Solution - enter your code solution below\n",
    "import tkinter as tk\n",
    "import datetime as dt # For handling time calculations\n",
    "\n",
    "# Stuff used for the calendar\n",
    "import calendar\n",
    "from IPython.display import HTML\n",
    "\n",
    "\n",
    "class ScheduleManager(tk.Tk):\n",
    "    def __init__(self):\n",
    "        super().__init__()\n",
    "        self.title(\"Scheduling Manager\")\n",
    "        self.__shifts = {'SUN':{'AM':[], 'PM':[]}, # Each day is a dictionary with an AM and PM shift, each having a list containing all persons scheduled for that time\n",
    "                         'MON':{'AM':[], 'PM':[]},\n",
    "                         'TUE':{'AM':[], 'PM':[]},\n",
    "                         'WED':{'AM':[], 'PM':[]},\n",
    "                         'THU':{'AM':[], 'PM':[]},\n",
    "                         'FRI':{'AM':[], 'PM':[]},\n",
    "                         'SAT':{'AM':[], 'PM':[]}}\n",
    "        \n",
    "    @staticmethod\n",
    "    def get_formatted_shift_index(day, time): # This is a staticmethod so any class can call it easily\n",
    "        \"\"\"Returns a properly formatted and typechecked tuple of (day, time), raising error on invalid input\"\"\"\n",
    "        if type(day) != str or type(time) != str:\n",
    "            raise Exception(\"Invalid format\")\n",
    "        day = day[0:3].upper() # Gets the uppercase forms of the first 3 letters of day, so inputs like 'Sunday' and 'sun' are both accepted\n",
    "        time = time.upper() # Converts AM/PM input to uppercase\n",
    "        if day not in {'SUN','MON','TUE','WED','THU','FRI','SAT'}:\n",
    "            raise Exception(\"Invalid day\")\n",
    "        if time not in {'AM','PM'}:\n",
    "            raise Exception(\"Time must be 'AM' or 'PM'\")\n",
    "        return (day, time)\n",
    "\n",
    "    def add_shift(self, person, day, time):\n",
    "        \"\"\"Adds person to shift\"\"\"\n",
    "        day, time = self.get_formatted_shift_index(day, time) # Ensures day and time are properly formatted\n",
    "        shift = self.__shifts[day][time]\n",
    "        if person not in shift:\n",
    "            shift.append(person)\n",
    "            print(\"Person added to shift\")\n",
    "        else:\n",
    "            print(f\"{person} already scheduled for shift\")\n",
    "\n",
    "    def remove_shift(self, person, day, time):\n",
    "        \"\"\"Removes person from shift\"\"\"\n",
    "        day, time = self.get_formatted_shift_index(day, time) # Ensures day and time are properly formatted\n",
    "        shift = self.__shifts[day][time]\n",
    "        if person in shift:\n",
    "            shift.remove(person)\n",
    "            print(\"Person removed from shift\")\n",
    "        else:\n",
    "            print(f\"{person} not scheduled for shift\")\n",
    "\n",
    "    def _debug_print_shifts(self): # DELETE THIS ONCE WE GET EVERYTHING ON THE HTML/GUI\n",
    "        \"\"\"Prints shifts, primarily for debug purposes\"\"\"\n",
    "        tab = \"    \"\n",
    "        for day in self.__shifts:\n",
    "            dict = self.__shifts[day]\n",
    "            if len(dict['AM']) > 0 or len(dict['PM']) > 0:\n",
    "                print(f\"{day}:\")\n",
    "                for shift in dict:\n",
    "                    list = dict[shift]\n",
    "                    if len(list) > 0:\n",
    "                        print(f\"{tab}{shift}:\")\n",
    "                        for person in list:\n",
    "                            print(f\"{tab*2}{person}\")\n",
    "                    else:\n",
    "                        print(f\"{tab}{shift}: None\")\n",
    "            else:\n",
    "                print(f\"{day}: None\")\n",
    "\n",
    "\n",
    "class Person:\n",
    "    def __init__(self, name, phone=None, email=None):\n",
    "        self.name = str(name)\n",
    "        self.phone = phone # Optional\n",
    "        self.email = email # Optional\n",
    "        self.__pay_rate = 0\n",
    "        self.__shift_availability = {'SUN':{'AM':'available', 'PM':'available'},\n",
    "                                     'MON':{'AM':'available', 'PM':'available'},\n",
    "                                     'TUE':{'AM':'available', 'PM':'available'},\n",
    "                                     'WED':{'AM':'available', 'PM':'available'},\n",
    "                                     'THU':{'AM':'available', 'PM':'available'},\n",
    "                                     'FRI':{'AM':'available', 'PM':'available'},\n",
    "                                     'SAT':{'AM':'available', 'PM':'available'}}\n",
    "        \n",
    "        self.__shift_exceptions = {} # After we set default values, overwrite shift availability based on this dict, depending on specific date\n",
    "\n",
    "    def __str__(self):\n",
    "        \"\"\"Returns name of person when object is converted to string\"\"\"\n",
    "        return str(self.name)\n",
    "    \n",
    "    def __repr__(self):\n",
    "        \"\"\"Returns name of person when object is converted to string\"\"\"\n",
    "        return str(self.name)\n",
    "\n",
    "    @property\n",
    "    def pay_rate(self):\n",
    "        \"\"\"Read Only\"\"\"\n",
    "        return self.__pay_rate\n",
    "\n",
    "    def set_pay_rate(self, new_rate):\n",
    "        \"\"\"Sets the new rate, checking the type and rejecting negative numbers\"\"\"\n",
    "        if type(new_rate) in {float, int}:\n",
    "            if new_rate >= 0:\n",
    "                self.__pay_rate = new_rate\n",
    "            else:\n",
    "                print(\"New rate must be positive number or zero\")\n",
    "        else:\n",
    "            print(\"Invalid format\")\n",
    "\n",
    "    @property\n",
    "    def availability(self):\n",
    "        \"\"\"Read only\"\"\"\n",
    "        return self.__shift_availability\n",
    "\n",
    "    def change_availability(self, day, time, availability):\n",
    "        \"\"\"Changes the availability for the given day and time\"\"\"\n",
    "        day, time = ScheduleManager.get_formatted_shift_index(day, time)\n",
    "        if availability not in {'preferred', 'available', 'unavailable'}: # Raise an error if we mess up and accidentally set a bad availability\n",
    "            raise Exception(\"Invalid availability, please select only from: 'available', 'unavailable', 'preferred'\")\n",
    "        self.__shift_availability[day][time] = availability\n",
    "\n",
    "    def add_shift_exception(self, date, time, availability):\n",
    "        \"\"\"Adds an availaibility exeption for a specific date\"\"\"\n",
    "        # My intention for this is that once we implement functionality for getting the current date and time, we can compare it to what's in the exception dict to overwrite the default values for that week\n",
    "        pass\n",
    "\n",
    "\n",
    "#Calendar stuff\n",
    "\n",
    "class CalendarManager:\n",
    "    def __init__(self):\n",
    "        # Initialize HTMLCalendar\n",
    "        html_cal = calendar.HTMLCalendar()\n",
    "        year = 2024\n",
    "\n",
    "        # creating the HTML content for the year 2024 calendar\n",
    "        calendar_html = html_cal.formatyear(year)\n",
    "\n",
    "        # Display the calendar as HTML in the notebook\n",
    "        HTML(calendar_html)\n",
    "\n",
    "\n",
    "if __name__ == \"__main__\":\n",
    "    person1 = Person(\"Guy\")\n",
    "    person2 = Person(\"Joe\")\n",
    "    person3 = Person(\"Claire\")\n",
    "\n",
    "    schedule = ScheduleManager()\n",
    "    schedule.add_shift(person1, 'SUN', 'AM')\n",
    "    schedule.add_shift(person2, 'SUN', 'AM')\n",
    "    schedule.add_shift(person2, 'MON', 'AM')\n",
    "    schedule.add_shift(person2, 'SUN', 'PM')\n",
    "    schedule._debug_print_shifts()"
   ]
  },
  {
   "cell_type": "markdown",
   "id": "ec8ddd19-87cd-475d-a07f-7dc8983dc636",
   "metadata": {},
   "source": [
    "### Notebook Instructions\n",
    "> Before turning in your notebook:\n",
    "> 1. Make sure you have renamed the notebook file as instructed\n",
    "> 2. Make sure you have included your signature block and that it is correct according to the instructions\n",
    "> 3. comment your code as necessary\n",
    "> 4. run all code cells and double check that they run correctly. If you can't get your code to run correctly and you want partial credit, add a note for the grader in a new markdown cell directly above your code solution.<br><br>\n",
    "Turn in your notebook by uploading it to ELMS<br>\n",
    "IF the exercises involve saved data files, put your notebook and the data file(s) in a zip folder and upload the zip folder to ELMS"
   ]
  },
  {
   "cell_type": "code",
   "execution_count": null,
   "id": "c2f96be2-9bc0-46ea-98fb-51d8c07c7de8",
   "metadata": {},
   "outputs": [],
   "source": []
  }
 ],
 "metadata": {
  "kernelspec": {
   "display_name": "base",
   "language": "python",
   "name": "python3"
  },
  "language_info": {
   "codemirror_mode": {
    "name": "ipython",
    "version": 3
   },
   "file_extension": ".py",
   "mimetype": "text/x-python",
   "name": "python",
   "nbconvert_exporter": "python",
   "pygments_lexer": "ipython3",
   "version": "3.12.4"
  }
 },
 "nbformat": 4,
 "nbformat_minor": 5
}
